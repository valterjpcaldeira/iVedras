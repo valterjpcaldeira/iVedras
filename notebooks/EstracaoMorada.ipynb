{
 "cells": [
  {
   "cell_type": "code",
   "execution_count": 3,
   "metadata": {},
   "outputs": [
    {
     "data": {
      "text/plain": [
       "{'label_id': 5, 'confidence': 0.14835049211978912}"
      ]
     },
     "execution_count": 3,
     "metadata": {},
     "output_type": "execute_result"
    }
   ],
   "source": [
    "import requests\n",
    "\n",
    "FLY_API_URL = \"https://ivedras-topic-api.fly.dev/predict\"\n",
    "\n",
    "response = requests.post(\n",
    "        FLY_API_URL,\n",
    "        json={\"text\": 'Buraco na estrada'},\n",
    "        timeout=60\n",
    "    )\n",
    "response.raise_for_status()\n",
    "response.json()"
   ]
  },
  {
   "cell_type": "code",
   "execution_count": 2,
   "metadata": {},
   "outputs": [],
   "source": [
    "text = \"Há um buraco enormena estrada da Avenida 5 de Outubro\"\n"
   ]
  },
  {
   "cell_type": "code",
   "execution_count": 18,
   "metadata": {},
   "outputs": [
    {
     "data": {
      "text/plain": [
       "[]"
      ]
     },
     "execution_count": 18,
     "metadata": {},
     "output_type": "execute_result"
    }
   ],
   "source": [
    "import re\n",
    "\n",
    "# Simple regex pattern to detect addresses like: Rua do Comércio 10, 2560-100 Torres Vedras\n",
    "pattern = r'\\b(?:Rua|Avenida|Travessa|Largo|Estrada|Praceta)\\s+(?:[\\w\\s]+?),?\\s*\\d{1,4}(?:[A-Z]?)?,?\\s*\\d{4}-\\d{3}\\s+[\\w\\s]+'\n",
    "\n",
    "matches = re.findall(pattern, text, re.IGNORECASE)\n",
    "matches"
   ]
  },
  {
   "cell_type": "code",
   "execution_count": 3,
   "metadata": {},
   "outputs": [
    {
     "data": {
      "text/plain": [
       "['Avenida 5 de Outubro']"
      ]
     },
     "execution_count": 3,
     "metadata": {},
     "output_type": "execute_result"
    }
   ],
   "source": [
    "import spacy\n",
    "\n",
    "nlp = spacy.load(\"pt_core_news_lg\")\n",
    "doc = nlp(text)\n",
    "\n",
    "addresses = [ent.text for ent in doc.ents if ent.label_ in [\"LOC\", \"GPE\"]]\n",
    "\n",
    "addresses"
   ]
  },
  {
   "cell_type": "code",
   "execution_count": 4,
   "metadata": {},
   "outputs": [
    {
     "name": "stderr",
     "output_type": "stream",
     "text": [
      "/Users/vcaldeira/Documents/torresVedras/Torres-sem-Mascara/vedras_env/lib/python3.11/site-packages/tqdm/auto.py:21: TqdmWarning: IProgress not found. Please update jupyter and ipywidgets. See https://ipywidgets.readthedocs.io/en/stable/user_install.html\n",
      "  from .autonotebook import tqdm as notebook_tqdm\n",
      "Device set to use mps:0\n",
      "Asking to truncate to max_length but no maximum length is provided and the model has no predefined maximum length. Default to no truncation.\n"
     ]
    },
    {
     "name": "stdout",
     "output_type": "stream",
     "text": [
      "[{'entity_group': 'Local', 'score': 0.32134798, 'word': 'Avenida', 'start': 33, 'end': 40}, {'entity_group': 'Organizacao', 'score': 0.37256727, 'word': '5', 'start': 41, 'end': 42}, {'entity_group': 'Local', 'score': 0.54296064, 'word': 'de', 'start': 43, 'end': 45}, {'entity_group': 'Organizacao', 'score': 0.3874629, 'word': 'Outubro', 'start': 46, 'end': 53}]\n",
      "{'entity_group': 'Local', 'score': 0.32134798, 'word': 'Avenida', 'start': 33, 'end': 40}\n",
      "{'entity_group': 'Local', 'score': 0.54296064, 'word': 'de', 'start': 43, 'end': 45}\n"
     ]
    }
   ],
   "source": [
    "from transformers import AutoTokenizer, AutoModelForTokenClassification\n",
    "from transformers import pipeline\n",
    "\n",
    "# Load model directly\n",
    "tokenizer = AutoTokenizer.from_pretrained(\"lfcc/bert-portuguese-ner\")\n",
    "model = AutoModelForTokenClassification.from_pretrained(\"lfcc/bert-portuguese-ner\")\n",
    "\n",
    "# NER pipeline\n",
    "ner = pipeline(\"ner\", model=model, tokenizer=tokenizer, aggregation_strategy=\"simple\")\n",
    "\n",
    "entities = ner(text)\n",
    "print(entities)\n",
    "for entity in entities:\n",
    "    if entity['entity_group'] in ['Local', 'ORG', 'PER']:  # Adjust as needed\n",
    "        print(entity)"
   ]
  },
  {
   "cell_type": "code",
   "execution_count": 5,
   "metadata": {},
   "outputs": [
    {
     "name": "stdout",
     "output_type": "stream",
     "text": [
      "Testing similarity with extracted entities:\n",
      "--------------------------------------------------\n",
      "Há um buraco enorme na estrada, da rua euvaristo silva, na urbanizacao do hilariao\n",
      "[{'entity_group': 'Pessoa', 'score': 0.7485047, 'word': 'euvaristo silva', 'start': 39, 'end': 54}, {'entity_group': 'Local', 'score': 0.6089806, 'word': 'hi', 'start': 74, 'end': 76}, {'entity_group': 'Local', 'score': 0.5012844, 'word': '##lar', 'start': 76, 'end': 79}]\n",
      "Total addresses to check: 4\n",
      "Addresses in database: 5400\n",
      "\n",
      "Extracted: '##lar'\n",
      "No good match found (best score: 10.34%)\n",
      "\n",
      "Extracted: 'urbanizacao do hilariao'\n",
      "Best match: 'Urbanização do Vale da Azenha\n",
      "2560-510 SILVEIRA\n",
      "Silveira, Torres Vedras, Lisboa' (similarity: 39.22%)\n",
      "Coordinates: {'latitude': 'GPS: 39.114514', 'longitude': '-9.366964'}\n",
      "\n",
      "Extracted: 'rua euvaristo silva'\n",
      "Best match: 'Rua Eduardo Sacristão\n",
      "2560-544 SILVEIRA\n",
      "Silveira, Torres Vedras, Lisboa' (similarity: 40.00%)\n",
      "Coordinates: {'latitude': 'GPS: 39.112200', 'longitude': '-9.363663'}\n",
      "\n",
      "Extracted: 'hi'\n",
      "No good match found (best score: 7.27%)\n"
     ]
    }
   ],
   "source": [
    "import pandas as pd\n",
    "from difflib import SequenceMatcher\n",
    "import numpy as np\n",
    "\n",
    "\n",
    "text = \"Há um buraco enorme na estrada, da rua euvaristo silva, na urbanizacao do hilariao\"\n",
    "\n",
    "\n",
    "# Load the CSV with Torres Vedras addresses\n",
    "addresses_df = pd.read_csv(\"moradas_torres_vedras.csv\")\n",
    "\n",
    "# Function to calculate similarity between two strings\n",
    "def calculate_similarity(str1, str2):\n",
    "    \"\"\"Calculate similarity ratio between two strings\"\"\"\n",
    "    # Convert to strings and handle NaN values\n",
    "    str1 = str(str1) if pd.notna(str1) else \"\"\n",
    "    str2 = str(str2) if pd.notna(str2) else \"\"\n",
    "    return SequenceMatcher(None, str1.lower(), str2.lower()).ratio()\n",
    "\n",
    "# Function to find the most similar address from the database\n",
    "def find_similar_address(extracted_address, addresses_df, threshold=0.6):\n",
    "    \"\"\"\n",
    "    Find the most similar address from the database\n",
    "    \n",
    "    Args:\n",
    "        extracted_address: The address extracted by NER\n",
    "        addresses_df: DataFrame with addresses from CSV\n",
    "        threshold: Minimum similarity ratio (0-1)\n",
    "    \n",
    "    Returns:\n",
    "        tuple: (best_match, similarity_score) or (None, 0) if no match above threshold\n",
    "    \"\"\"\n",
    "    best_match = None\n",
    "    best_score = 0\n",
    "    \n",
    "    for idx, row in addresses_df.iterrows():\n",
    "        db_address = row['address']\n",
    "        # Skip NaN values in the database\n",
    "        if pd.isna(db_address):\n",
    "            continue\n",
    "        similarity = calculate_similarity(extracted_address, db_address)\n",
    "        \n",
    "        if similarity > best_score:\n",
    "            best_score = similarity\n",
    "            best_match = db_address\n",
    "    \n",
    "    if best_score >= threshold:\n",
    "        return best_match, best_score\n",
    "    else:\n",
    "        return None, best_score\n",
    "\n",
    "# Test with the extracted entities from previous cells\n",
    "print(\"Testing similarity with extracted entities:\")\n",
    "print(\"-\" * 50)\n",
    "\n",
    "# Get entities from the NER model\n",
    "print(text)\n",
    "entities = ner(text)\n",
    "extracted_addresses = []\n",
    "\n",
    "for entity in entities:\n",
    "    if entity['entity_group'] in ['Local', 'ORG', 'PER']:\n",
    "        extracted_addresses.append(entity['word'])\n",
    "\n",
    "print(entities)\n",
    "\n",
    "\n",
    "doc = nlp(text)\n",
    "spacy_addresses = [ent.text for ent in doc.ents if ent.label_ in [\"LOC\", \"GPE\"]]\n",
    "\n",
    "\n",
    "# Combine all extracted addresses\n",
    "all_extracted = list(set(extracted_addresses + spacy_addresses))\n",
    "\n",
    "print(f\"Total addresses to check: {len(all_extracted)}\")\n",
    "print(f\"Addresses in database: {len(addresses_df)}\")\n",
    "\n",
    "# Check each extracted address\n",
    "for addr in all_extracted:\n",
    "    if addr.strip():  # Skip empty strings\n",
    "        best_match, score = find_similar_address(addr, addresses_df, threshold=0.3)\n",
    "        \n",
    "        print(f\"\\nExtracted: '{addr}'\")\n",
    "        if best_match:\n",
    "            print(f\"Best match: '{best_match}' (similarity: {score:.2%})\")\n",
    "            print(f\"Coordinates: {addresses_df[addresses_df['address'] == best_match][['latitude', 'longitude']].iloc[0].to_dict()}\")\n",
    "        else:\n",
    "            print(f\"No good match found (best score: {score:.2%})\")\n",
    "\n"
   ]
  }
 ],
 "metadata": {
  "kernelspec": {
   "display_name": "vedras_env",
   "language": "python",
   "name": "python3"
  },
  "language_info": {
   "codemirror_mode": {
    "name": "ipython",
    "version": 3
   },
   "file_extension": ".py",
   "mimetype": "text/x-python",
   "name": "python",
   "nbconvert_exporter": "python",
   "pygments_lexer": "ipython3",
   "version": "3.11.8"
  }
 },
 "nbformat": 4,
 "nbformat_minor": 2
}
